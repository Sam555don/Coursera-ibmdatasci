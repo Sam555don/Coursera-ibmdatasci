{
 "cells": [
  {
   "cell_type": "markdown",
   "metadata": {},
   "source": [
    "<center>\n",
    "    <img src=\"https://cf-courses-data.s3.us.cloud-object-storage.appdomain.cloud/IBMDeveloperSkillsNetwork-DS0105EN-SkillsNetwork/labs/Module2/images/SN_web_lightmode.png\" width=\"300\" alt=\"cognitiveclass.ai logo\">\n",
    "</center>\n"
   ]
  },
  {
   "cell_type": "markdown",
   "metadata": {
    "tags": []
   },
   "source": [
    "#### Add your code below following the instructions given in the course\n"
   ]
  },
  {
   "cell_type": "markdown",
   "metadata": {},
   "source": [
    "My Notebook"
   ]
  },
  {
   "cell_type": "markdown",
   "metadata": {},
   "source": [
    "Introduction: This is  my first time using jupyter\n",
    "              notebook so hello world."
   ]
  },
  {
   "cell_type": "markdown",
   "metadata": {},
   "source": [
    "List o data science languages:\n",
    "1. Python\n",
    "2. R\n",
    "3. SQL"
   ]
  },
  {
   "cell_type": "markdown",
   "metadata": {},
   "source": [
    "List of data science libraries:\n",
    "1. NumPy\n",
    "2. Pandas\n",
    "3. Matplotlib\n",
    "4. Scikit-learn\n",
    "5. TensorFlow\n",
    "6. Keras\n",
    "7. PyTorch\n",
    "8. Seaborn\n",
    "9. NLTK\n",
    "10. Statsmodels"
   ]
  },
  {
   "cell_type": "markdown",
   "metadata": {},
   "source": [
    "| Tool                                   | Description                                                    |\n",
    "| -------------------------------------- | -------------------------------------------------------------- |\n",
    "| Python                                 | A widely-used programming language for data analysis and ML    |\n",
    "| R                                      | A programming language for statistical computing and graphics  |\n",
    "| SQL                                    | A language used for managing and querying structured data       |\n",
    "| Apache Hadoop                          | A Java-based framework for distributed storage and processing  |\n",
    "| Apache Spark                           | A distributed computing engine for big data processing         |\n",
    "| TensorFlow                             | A machine learning framework developed by Google               |\n",
    "| PyTorch                                | An open-source machine learning library for Python              |\n",
    "| Tableau                                | A data visualization tool for creating interactive charts and graphs |\n",
    "| Power BI                               | A suite of business analytics tools from Microsoft             |"
   ]
  },
  {
   "cell_type": "markdown",
   "metadata": {},
   "source": [
    "Aritmatic exxpressin exaxmples:\n",
    " 1, x+y\n",
    " 2. x-y\n",
    " 3. x*y\n",
    " 4. x/y"
   ]
  },
  {
   "cell_type": "code",
   "execution_count": 1,
   "metadata": {
    "tags": []
   },
   "outputs": [
    {
     "name": "stdout",
     "output_type": "stream",
     "text": [
      "10\n",
      "7\n"
     ]
    }
   ],
   "source": [
    "x=2 \n",
    "y=5\n",
    "## multiply\n",
    "m = x*y\n",
    "print(m)\n",
    "## add\n",
    "a = x+y\n",
    "print(a)"
   ]
  },
  {
   "cell_type": "code",
   "execution_count": 2,
   "metadata": {
    "tags": []
   },
   "outputs": [
    {
     "name": "stdout",
     "output_type": "stream",
     "text": [
      "1.0\n"
     ]
    }
   ],
   "source": [
    "##minutes to hours\n",
    "m = 60\n",
    "h = m/60\n",
    "print(h)"
   ]
  },
  {
   "cell_type": "markdown",
   "metadata": {},
   "source": [
    "Objectives:\n",
    " 1. to tell i am the best\n",
    " 2. repeat the above point again.\n",
    " 3. try out jupyter notebook.\n",
    " 4. Bow Bow Meaw Meaw"
   ]
  },
  {
   "cell_type": "markdown",
   "metadata": {},
   "source": [
    "NAme of author:\n",
    "samar choudhary aka don"
   ]
  },
  {
   "cell_type": "code",
   "execution_count": null,
   "metadata": {},
   "outputs": [],
   "source": []
  }
 ],
 "metadata": {
  "kernelspec": {
   "display_name": "Python",
   "language": "python",
   "name": "conda-env-python-py"
  },
  "language_info": {
   "codemirror_mode": {
    "name": "ipython",
    "version": 3
   },
   "file_extension": ".py",
   "mimetype": "text/x-python",
   "name": "python",
   "nbconvert_exporter": "python",
   "pygments_lexer": "ipython3",
   "version": "3.7.12"
  }
 },
 "nbformat": 4,
 "nbformat_minor": 4
}
